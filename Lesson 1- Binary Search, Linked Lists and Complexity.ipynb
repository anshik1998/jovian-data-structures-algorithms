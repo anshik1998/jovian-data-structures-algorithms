{
 "cells": [
  {
   "cell_type": "markdown",
   "id": "forbidden-worry",
   "metadata": {},
   "source": [
    "## Lesson 1: Binary Search, Linked List and Complexity"
   ]
  },
  {
   "cell_type": "markdown",
   "id": "differential-sheet",
   "metadata": {},
   "source": [
    "### Practice Problem # 1\n",
    "\n",
    "#### Date: March 31, 2021"
   ]
  },
  {
   "cell_type": "markdown",
   "id": "tender-awareness",
   "metadata": {},
   "source": [
    "You are given list of numbers, obtained by rotating a sorted list an unknown number of times. \n",
    "Write a function to determine the minimum number of times the original sorted list was rotated to obtain the given list. \n",
    "Your function should have the worst-case complexity of O(log N), where N is the length of the list. \n",
    "You can assume that all the numbers in the list are unique.\n",
    "\n",
    "**Example:** The list `[5, 6, 9, 0, 2, 3, 4]` was obtained by rotating the sorted list `[0, 2, 3, 4, 5, 6, 9]` 3 times.\n",
    "\n",
    "We define \"rotating a list\" as removing the last element of the list and adding it before the first element. \n",
    "E.g. rotating the list `[3, 2, 4, 1]` produces `[1, 3, 2, 4]`.\n",
    "\n",
    "\"Sorted list\" refers to a list where the elements are arranged in the increasing order e.g. `[1, 3, 5, 7]`."
   ]
  },
  {
   "cell_type": "markdown",
   "id": "economic-alcohol",
   "metadata": {},
   "source": [
    "\n",
    "**Problem Statement:**\n",
    "\n",
    "> Given a rotated sorted list, find the count of rotations performed on the sorted list to obtain the given input list."
   ]
  },
  {
   "cell_type": "code",
   "execution_count": 1,
   "id": "basic-stuart",
   "metadata": {},
   "outputs": [],
   "source": [
    "tests = []"
   ]
  },
  {
   "cell_type": "code",
   "execution_count": 2,
   "id": "american-mouth",
   "metadata": {},
   "outputs": [],
   "source": [
    "# A list of size 8 with 5 rotations\n",
    "\n",
    "test_1 = {\n",
    "    'input' : {\n",
    "        'lst' : [4, 5, 6, 7, 8, 1, 2, 3]\n",
    "    },    \n",
    "    'output' : 5\n",
    "}"
   ]
  },
  {
   "cell_type": "code",
   "execution_count": 3,
   "id": "seven-furniture",
   "metadata": {},
   "outputs": [],
   "source": [
    "# Empty List\n",
    "\n",
    "test_2 = {\n",
    "    'input' : {\n",
    "        'lst' : []\n",
    "    },\n",
    "    'output' : 0\n",
    "}"
   ]
  },
  {
   "cell_type": "code",
   "execution_count": 4,
   "id": "later-creation",
   "metadata": {},
   "outputs": [],
   "source": [
    "# A list that was rotated n-1 times\n",
    "\n",
    "test_3 = {\n",
    "    'input' : {\n",
    "        'lst' : [2, 3, 4, 5, 6, 1]\n",
    "    },\n",
    "    'output' : 5\n",
    "}"
   ]
  },
  {
   "cell_type": "code",
   "execution_count": 5,
   "id": "hollywood-pledge",
   "metadata": {},
   "outputs": [],
   "source": [
    "# A list that was rotated n times\n",
    "\n",
    "test_4 = {\n",
    "    'input' : {\n",
    "        'lst' : [1, 2, 3, 4, 5, 6]\n",
    "    },\n",
    "    'output' : 0\n",
    "}"
   ]
  },
  {
   "cell_type": "code",
   "execution_count": 6,
   "id": "atomic-candy",
   "metadata": {},
   "outputs": [],
   "source": [
    "tests = [test_1, test_2, test_3, test_4]"
   ]
  },
  {
   "cell_type": "markdown",
   "id": "animal-pasta",
   "metadata": {},
   "source": [
    "### Brute Force Approach:\n",
    "\n",
    "Traverse throughout the list and check the following condition:\n",
    "\n",
    "> lst[i-1] > lst[i]\n",
    "\n",
    "If found, return the ith index value, i.e. the index value will correspond to the number of rotation the sorted list has gone through.\n",
    "\n",
    "Else, if this condition never turned true: return 0."
   ]
  },
  {
   "cell_type": "markdown",
   "id": "patent-bedroom",
   "metadata": {},
   "source": [
    "### Brute Force Solution:\n",
    "    \n",
    "#### Signature function:\n",
    "    \n",
    "   "
   ]
  },
  {
   "cell_type": "code",
   "execution_count": 7,
   "id": "coordinate-orlando",
   "metadata": {},
   "outputs": [],
   "source": [
    "def count_rotations(lst):\n",
    "    pass"
   ]
  },
  {
   "cell_type": "markdown",
   "id": "dynamic-scale",
   "metadata": {},
   "source": [
    "\n",
    "\n"
   ]
  },
  {
   "cell_type": "code",
   "execution_count": 8,
   "id": "prepared-webster",
   "metadata": {},
   "outputs": [],
   "source": [
    "# Solution:\n",
    "    \n",
    "def count_rotations(lst):\n",
    "    \"\"\"\n",
    "    Brute force approach to calculate the number of rotations perfomed on the given sorted list. \n",
    "    \"\"\"\n",
    "    for index in range(len(lst)):\n",
    "        \n",
    "        if len(lst) == 0 or len(lst) == 1:\n",
    "            return 0\n",
    "        \n",
    "        if lst[index - 1] > lst[index]:\n",
    "            return index\n",
    "        \n",
    "    return 0\n",
    "\n",
    "# Algorithm Complexity: O(N) [Traversing throughout the list]"
   ]
  },
  {
   "cell_type": "code",
   "execution_count": 9,
   "id": "numerical-cincinnati",
   "metadata": {},
   "outputs": [
    {
     "name": "stdout",
     "output_type": "stream",
     "text": [
      "True\n",
      "True\n",
      "True\n",
      "True\n"
     ]
    }
   ],
   "source": [
    "for test in tests:\n",
    "    print(count_rotations(** test['input']) == test['output'])"
   ]
  },
  {
   "cell_type": "markdown",
   "id": "rental-article",
   "metadata": {},
   "source": [
    "\n",
    "\n"
   ]
  },
  {
   "cell_type": "markdown",
   "id": "moral-marina",
   "metadata": {},
   "source": [
    "## Better Approach:\n",
    "\n",
    "> Using **Binary Search**, and whenever lst[i-1] > lst[i], return the ith value."
   ]
  },
  {
   "cell_type": "code",
   "execution_count": 10,
   "id": "exempt-bronze",
   "metadata": {},
   "outputs": [],
   "source": [
    "# Solution:\n",
    "\n",
    "def count_rotations(lst, low, high):\n",
    "    \"\"\"\n",
    "    Counting the number of rotations occured in sorted list using Binary Search.\n",
    "    \"\"\"\n",
    "    if len(lst) == 0 or len(lst) == 1:\n",
    "        return 0\n",
    "    \n",
    "    if high >= low:\n",
    "        mid = low + (high-low) // 2\n",
    "    \n",
    "        if lst[mid] < lst[mid-1]:\n",
    "            return mid\n",
    "\n",
    "        elif lst[mid] > lst[mid - 1] and lst[mid] < lst[high]:\n",
    "            return count_rotations(lst, low, mid - 1)\n",
    "        \n",
    "        else:\n",
    "            return count_rotations(lst, mid + 1, high)\n",
    "        \n",
    "# Time Complexity: O(log N)\n",
    "# Space Complexity: O(log N)"
   ]
  },
  {
   "cell_type": "code",
   "execution_count": 11,
   "id": "thermal-australian",
   "metadata": {},
   "outputs": [
    {
     "name": "stdout",
     "output_type": "stream",
     "text": [
      "True\n",
      "True\n",
      "True\n",
      "True\n"
     ]
    }
   ],
   "source": [
    "for test in tests:\n",
    "    print(count_rotations(lst = test['input']['lst'], low = 0, high = len(test['input']['lst']) - 1) == test['output'])"
   ]
  }
 ],
 "metadata": {
  "kernelspec": {
   "display_name": "Python 3",
   "language": "python",
   "name": "python3"
  },
  "language_info": {
   "codemirror_mode": {
    "name": "ipython",
    "version": 3
   },
   "file_extension": ".py",
   "mimetype": "text/x-python",
   "name": "python",
   "nbconvert_exporter": "python",
   "pygments_lexer": "ipython3",
   "version": "3.9.1"
  }
 },
 "nbformat": 4,
 "nbformat_minor": 5
}
